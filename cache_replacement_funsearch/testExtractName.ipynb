{
 "cells": [
  {
   "cell_type": "code",
   "execution_count": 5,
   "id": "2b3b5221",
   "metadata": {},
   "outputs": [],
   "source": [
    "import re"
   ]
  },
  {
   "cell_type": "code",
   "execution_count": 4,
   "id": "10ed3ffb",
   "metadata": {},
   "outputs": [],
   "source": [
    "code = \"\"\"\n",
    "```cpp\n",
    "#include \"hybrid_lru.h\"\n",
    "\n",
    "#include <algorithm>\n",
    "#include <cassert>\n",
    "\n",
    "hybrid_lru::hybrid_lru(CACHE* cache) : hybrid_lru(cache, cache->NUM_SET, cache->NUM_WAY) {}\n",
    "\n",
    "hybrid_lru::hybrid_lru(CACHE* cache, long sets, long ways) : replacement(cache), NUM_WAY(ways), last_used_cycles(static_cast<std::size_t>(sets * ways), 0), \n",
    "                                                             reuse_distance(static_cast<std::size_t>(sets * ways), 0), temporal_distance(static_cast<std::size_t>(sets * ways), 0),\n",
    "                                                             temporal_weight(0.5), reuse_weight(0.5) {}\n",
    "\n",
    "long hybrid_lru::find_victim(uint32_t triggering_cpu, uint64_t instr_id, long set, const champsim::cache_block* current_set, champsim::address ip,\n",
    "                      champsim::address full_addr, access_type type)\n",
    "{\n",
    "  auto begin = std::next(std::begin(last_used_cycles), set * NUM_WAY);\n",
    "  auto end = std::next(begin, NUM_WAY);\n",
    "\n",
    "  // Calculate the reuse distance and temporal distance for each block in the set\n",
    "  for (auto it = begin; it != end; ++it) {\n",
    "    auto way = std::distance(begin, it);\n",
    "    long reuse_dist = calculate_reuse_distance(set, way);\n",
    "    long temporal_dist = calculate_temporal_distance(set, way);\n",
    "\n",
    "    // Update the reuse distance and temporal distance for this block\n",
    "    reuse_distance.at((std::size_t)(set * NUM_WAY + way)) = reuse_dist;\n",
    "    temporal_distance.at((std::size_t)(set * NUM_WAY + way)) = temporal_dist;\n",
    "  }\n",
    "\n",
    "  // Find the way with the minimum weighted sum of reuse distance and temporal distance\n",
    "  auto victim = std::min_element(begin, end, [this, set](const auto& a, const auto& b) {\n",
    "    auto way_a = std::distance(std::next(std::begin(last_used_cycles), set * NUM_WAY), &a);\n",
    "    auto way_b = std::distance(std::next(std::begin(last_used_cycles), set * NUM_WAY), &b);\n",
    "    long reuse_dist_a = reuse_distance.at((std::size_t)(set * NUM_WAY + way_a));\n",
    "    long reuse_dist_b = reuse_distance.at((std::size_t)(set * NUM_WAY + way_b));\n",
    "    long temporal_dist_a = temporal_distance.at((std::size_t)(set * NUM_WAY + way_a));\n",
    "    long temporal_dist_b = temporal_distance.at((std::size_t)(set * NUM_WAY + way_b));\n",
    "\n",
    "    long weight_sum_a = temporal_weight * temporal_dist_a + reuse_weight * reuse_dist_a;\n",
    "    long weight_sum_b = temporal_weight * temporal_dist_b + reuse_weight * reuse_dist_b;\n",
    "\n",
    "    return weight_sum_a > weight_sum_b;\n",
    "  });\n",
    "\n",
    "  assert(begin <= victim);\n",
    "  assert(victim < end);\n",
    "  return std::distance(begin, victim);\n",
    "}\n",
    "\n",
    "void hybrid_lru::replacement_cache_fill(uint32_t triggering_cpu, long set, long way, champsim::address full_addr, champsim::address ip, champsim::address victim_addr,\n",
    "                                 access_type type)\n",
    "{\n",
    "  // Mark the way as being used on the current cycle\n",
    "  last_used_cycles.at((std::size_t)(set * NUM_WAY + way)) = cycle++;\n",
    "\n",
    "  // Update the reuse distance and temporal distance for this block\n",
    "  long reuse_dist = calculate_reuse_distance(set, way);\n",
    "  long temporal_dist = calculate_temporal_distance(set, way);\n",
    "\n",
    "  reuse_distance.at((std::size_t)(set * NUM_WAY + way)) = reuse_dist;\n",
    "  temporal_distance.at((std::size_t)(set * NUM_WAY + way)) = temporal_dist;\n",
    "}\n",
    "\n",
    "void hybrid_lru::update_replacement_state(uint32_t triggering_cpu, long set, long way, champsim::address full_addr, champsim::address ip,\n",
    "                                   champsim::address victim_addr, access_type type, uint8_t hit)\n",
    "{\n",
    "  // Mark the way as being used on the current cycle\n",
    "  if (hit && access_type{type} != access_type::WRITE) // Skip this for writeback hits\n",
    "    last_used_cycles.at((std::size_t)(set * NUM_WAY + way)) = cycle++;\n",
    "\n",
    "  // Update the reuse distance and temporal distance for this block\n",
    "  long reuse_dist = calculate_reuse_distance(set, way);\n",
    "  long temporal_dist = calculate_temporal_distance(set, way);\n",
    "\n",
    "  reuse_distance.at((std::size_t)(set * NUM_WAY + way)) = reuse_dist;\n",
    "  temporal_distance.at((std::size_t)(set * NUM_WAY + way)) = temporal_dist;\n",
    "}\n",
    "\n",
    "long hybrid_lru::calculate_reuse_distance(long set, long way) {\n",
    "  // Calculate the reuse distance based on the time since the last access\n",
    "  // For simplicity, we assume the reuse distance is the number of cycles since the last access\n",
    "  return cycle - last_used_cycles.at((std::size_t)(set * NUM_WAY + way));\n",
    "}\n",
    "\n",
    "long hybrid_lru::calculate_temporal_distance(long set, long way) {\n",
    "  // Calculate the temporal distance based on the time since the last access\n",
    "  // For simplicity, we assume the temporal distance is the number of cycles since the last access\n",
    "  return cycle - last_used_cycles.at((std::size_t)(set * NUM_WAY + way));\n",
    "}\n",
    "```\n",
    "\"\"\""
   ]
  },
  {
   "cell_type": "code",
   "execution_count": 6,
   "id": "198e7a83",
   "metadata": {},
   "outputs": [],
   "source": [
    "\n",
    "match = re.search(r'(\\w+)::\\1\\s*\\(', code)"
   ]
  },
  {
   "cell_type": "code",
   "execution_count": 8,
   "id": "e3205afa",
   "metadata": {},
   "outputs": [
    {
     "data": {
      "text/plain": [
       "'hybrid_lru'"
      ]
     },
     "execution_count": 8,
     "metadata": {},
     "output_type": "execute_result"
    }
   ],
   "source": [
    "match.group(1)"
   ]
  }
 ],
 "metadata": {
  "kernelspec": {
   "display_name": "Python 3",
   "language": "python",
   "name": "python3"
  },
  "language_info": {
   "codemirror_mode": {
    "name": "ipython",
    "version": 3
   },
   "file_extension": ".py",
   "mimetype": "text/x-python",
   "name": "python",
   "nbconvert_exporter": "python",
   "pygments_lexer": "ipython3",
   "version": "3.10.12"
  }
 },
 "nbformat": 4,
 "nbformat_minor": 5
}
